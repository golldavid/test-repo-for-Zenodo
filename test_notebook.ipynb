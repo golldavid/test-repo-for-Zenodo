{
 "cells": [
  {
   "cell_type": "markdown",
   "metadata": {},
   "source": [
    "# Test Notebook\n",
    "\n",
    "This notebook is for trying out and testing lines of code"
   ]
  },
  {
   "cell_type": "code",
   "execution_count": 2,
   "metadata": {},
   "outputs": [
    {
     "name": "stdout",
     "output_type": "stream",
     "text": [
      "    Column1  Column2 Column3\n",
      "0  0.374540       63       C\n",
      "1  0.950714       96       C\n",
      "2  0.731994       52       C\n",
      "3  0.598658       96       B\n",
      "4  0.156019        4       C\n"
     ]
    }
   ],
   "source": [
    "import numpy as np\n",
    "import matplotlib.pyplot as plt\n",
    "import pandas as pd\n",
    "\n",
    "# Set the random seed for reproducibility\n",
    "np.random.seed(42)\n",
    "\n",
    "# Generate a small dataset with 100 rows and 3 columns\n",
    "data = {\n",
    "    'Column1': np.random.rand(100),\n",
    "    'Column2': np.random.randint(1, 100, 100),\n",
    "    'Column3': np.random.choice(['A', 'B', 'C'], 100)\n",
    "}\n",
    "\n",
    "# Create a DataFrame from the generated data\n",
    "df = pd.DataFrame(data)\n",
    "\n",
    "# Save the DataFrame to a CSV file\n",
    "df.to_csv('generated_dataset.csv', index=False)\n",
    "\n",
    "# Display the first few rows of the generated dataset\n",
    "print(df.head())"
   ]
  }
 ],
 "metadata": {
  "kernelspec": {
   "display_name": "Python 3",
   "language": "python",
   "name": "python3"
  },
  "language_info": {
   "codemirror_mode": {
    "name": "ipython",
    "version": 3
   },
   "file_extension": ".py",
   "mimetype": "text/x-python",
   "name": "python",
   "nbconvert_exporter": "python",
   "pygments_lexer": "ipython3",
   "version": "3.10.0"
  },
  "orig_nbformat": 4
 },
 "nbformat": 4,
 "nbformat_minor": 2
}
